{
 "cells": [
  {
   "cell_type": "code",
   "execution_count": 1,
   "id": "83d5e50e-5f63-417e-a09f-98529fb4ac7f",
   "metadata": {},
   "outputs": [],
   "source": [
    "age = 20\n"
   ]
  },
  {
   "cell_type": "code",
   "execution_count": 2,
   "id": "486db8e5-4731-4d06-95a4-ab36d8fcb3b5",
   "metadata": {},
   "outputs": [
    {
     "data": {
      "text/plain": [
       "20"
      ]
     },
     "execution_count": 2,
     "metadata": {},
     "output_type": "execute_result"
    }
   ],
   "source": [
    "age\n",
    "\n"
   ]
  },
  {
   "cell_type": "code",
   "execution_count": null,
   "id": "6dffbe6d-09d6-4e16-af51-e228844b9c71",
   "metadata": {},
   "outputs": [],
   "source": []
  }
 ],
 "metadata": {
  "kernelspec": {
   "display_name": "Python 3 (ipykernel)",
   "language": "python",
   "name": "python3"
  },
  "language_info": {
   "codemirror_mode": {
    "name": "ipython",
    "version": 3
   },
   "file_extension": ".py",
   "mimetype": "text/x-python",
   "name": "python",
   "nbconvert_exporter": "python",
   "pygments_lexer": "ipython3",
   "version": "3.10.11"
  }
 },
 "nbformat": 4,
 "nbformat_minor": 5
}
